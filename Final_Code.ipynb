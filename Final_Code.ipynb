{
  "nbformat": 4,
  "nbformat_minor": 0,
  "metadata": {
    "colab": {
      "name": "Final Code.ipynb",
      "provenance": []
    },
    "kernelspec": {
      "name": "python3",
      "display_name": "Python 3"
    },
    "language_info": {
      "name": "python"
    }
  },
  "cells": [
    {
      "cell_type": "code",
      "execution_count": null,
      "metadata": {
        "id": "waFy_6w6nL-T"
      },
      "outputs": [],
      "source": [
        "import pandas as pd\n",
        "import numpy as np\n",
        "import matplotlib.pyplot as plt\n",
        "import seaborn as sns"
      ]
    },
    {
      "cell_type": "code",
      "source": [
        "data = pd.read_csv(\"merged.csv\")\n",
        "data.head(10)"
      ],
      "metadata": {
        "colab": {
          "base_uri": "https://localhost:8080/",
          "height": 821
        },
        "id": "DkMfYlg5nT3h",
        "outputId": "a1c54dc4-2b4f-469f-9623-612ccee34d9e"
      },
      "execution_count": null,
      "outputs": [
        {
          "output_type": "execute_result",
          "data": {
            "text/plain": [
              "            state  year  Geogra-phical Area-(Col.3)  \\\n",
              "0  Andhra Pradesh  2004                       27507   \n",
              "1  Andhra Pradesh  2005                       27507   \n",
              "2  Andhra Pradesh  2006                       27507   \n",
              "3  Andhra Pradesh  2007                       27507   \n",
              "4  Andhra Pradesh  2008                       27507   \n",
              "5  Andhra Pradesh  2009                       27507   \n",
              "6  Andhra Pradesh  2010                       27507   \n",
              "7  Andhra Pradesh  2011                       27507   \n",
              "8  Andhra Pradesh  2012                       27507   \n",
              "9  Andhra Pradesh  2013                       27507   \n",
              "\n",
              "   Reporting area for land utilisationstatistics (col.4+7+11+14+15)-(Col.4)  \\\n",
              "0                                              27440                          \n",
              "1                                              27440                          \n",
              "2                                              27440                          \n",
              "3                                              27505                          \n",
              "4                                              27505                          \n",
              "5                                              27505                          \n",
              "6                                              27505                          \n",
              "7                                              27505                          \n",
              "8                                              27505                          \n",
              "9                                              27505                          \n",
              "\n",
              "   Forests-(Col.5)  \\\n",
              "0           6199.0   \n",
              "1           6199.0   \n",
              "2           6199.0   \n",
              "3           6210.0   \n",
              "4           6210.0   \n",
              "5           6210.0   \n",
              "6           6210.0   \n",
              "7           6230.0   \n",
              "8           6230.0   \n",
              "9           6227.0   \n",
              "\n",
              "   Not available for cultivation-Area under non-agri-cultural uses-(Col.6)  \\\n",
              "0                                               2692                         \n",
              "1                                               2712                         \n",
              "2                                               2709                         \n",
              "3                                               2683                         \n",
              "4                                               2725                         \n",
              "5                                               2742                         \n",
              "6                                               2765                         \n",
              "7                                               2872                         \n",
              "8                                               2803                         \n",
              "9                                               2873                         \n",
              "\n",
              "   Not available for cultivation-Barren & uncultur-able land-(Col.7)  \\\n",
              "0                                             2084.0                   \n",
              "1                                             2084.0                   \n",
              "2                                             2084.0                   \n",
              "3                                             2098.0                   \n",
              "4                                             2059.0                   \n",
              "5                                             2056.0                   \n",
              "6                                             2043.0                   \n",
              "7                                             2026.0                   \n",
              "8                                             2024.0                   \n",
              "9                                             1959.0                   \n",
              "\n",
              "   Not available for cultivation-Total (Col.6+Col.7)-(Col8)  \\\n",
              "0                                               4775          \n",
              "1                                               4796          \n",
              "2                                               4793          \n",
              "3                                               4781          \n",
              "4                                               4784          \n",
              "5                                               4797          \n",
              "6                                               4808          \n",
              "7                                               4899          \n",
              "8                                               4827          \n",
              "9                                               4833          \n",
              "\n",
              "   Other uncultivated land excluding-Fallow Land-Permanent pastures & other grazing lands-(Col.9)  \\\n",
              "0                                              676.0                                                \n",
              "1                                              676.0                                                \n",
              "2                                              676.0                                                \n",
              "3                                              602.0                                                \n",
              "4                                              571.0                                                \n",
              "5                                              569.0                                                \n",
              "6                                              566.0                                                \n",
              "7                                              554.0                                                \n",
              "8                                              553.0                                                \n",
              "9                                              515.0                                                \n",
              "\n",
              "   Other uncultivated land excluding-Fallow Land-Land under misc. tree crops & groves (not incl. in net area sown)-(Col.10)  \\\n",
              "0                                              277.0                                                                          \n",
              "1                                              278.0                                                                          \n",
              "2                                              278.0                                                                          \n",
              "3                                              320.0                                                                          \n",
              "4                                              306.0                                                                          \n",
              "5                                              299.0                                                                          \n",
              "6                                              295.0                                                                          \n",
              "7                                              290.0                                                                          \n",
              "8                                              289.0                                                                          \n",
              "9                                              278.0                                                                          \n",
              "\n",
              "   ...  Fallow Lands-Current fallows-(Col.14)  \\\n",
              "0  ...                                 3036.0   \n",
              "1  ...                                 2819.0   \n",
              "2  ...                                 2434.0   \n",
              "3  ...                                 3166.0   \n",
              "4  ...                                 2719.0   \n",
              "5  ...                                 2624.0   \n",
              "6  ...                                 3361.0   \n",
              "7  ...                                 2229.0   \n",
              "8  ...                                 2273.0   \n",
              "9  ...                                 2337.0   \n",
              "\n",
              "   Fallow Lands-Total(Col.13+Col.14)-(Col.15)  Net area Sown-(Col.16)  \\\n",
              "0                                      4693.0                   10118   \n",
              "1                                      4469.0                   10327   \n",
              "2                                      4057.0                   10745   \n",
              "3                                      4749.0                   10147   \n",
              "4                                      4219.0                   10756   \n",
              "5                                      4111.0                   10868   \n",
              "6                                      4987.0                    9991   \n",
              "7                                      3719.0                   11186   \n",
              "8                                      3831.0                   11161   \n",
              "9                                      3947.0                   11117   \n",
              "\n",
              "   Total Cropped Area-(Col.17)  \\\n",
              "0                        12366   \n",
              "1                        12519   \n",
              "2                        13362   \n",
              "3                        12811   \n",
              "4                        13567   \n",
              "5                        13830   \n",
              "6                        12560   \n",
              "7                        14512   \n",
              "8                        13759   \n",
              "9                        13650   \n",
              "\n",
              "   Area sown more than once (col.17-Col.16)-(Col.18)  \\\n",
              "0                                             2248.0   \n",
              "1                                             2191.0   \n",
              "2                                             2617.0   \n",
              "3                                             2664.0   \n",
              "4                                             2811.0   \n",
              "5                                             2962.0   \n",
              "6                                             2569.0   \n",
              "7                                             3326.0   \n",
              "8                                             2599.0   \n",
              "9                                             2533.0   \n",
              "\n",
              "   Agri. Land/Culti-vable land/Cultur-able land/Arable land (Col.10+Col.11+Col.12+Col.13)-(Col.19)  \\\n",
              "0                                              15789                                                 \n",
              "1                                              15769                                                 \n",
              "2                                              15772                                                 \n",
              "3                                              15911                                                 \n",
              "4                                              15939                                                 \n",
              "5                                              15928                                                 \n",
              "6                                              15921                                                 \n",
              "7                                              15821                                                 \n",
              "8                                              15894                                                 \n",
              "9                                              15930                                                 \n",
              "\n",
              "   Cultivated land (Col.14+Col.15)-(Col.20)  \\\n",
              "0                                     13154   \n",
              "1                                     13146   \n",
              "2                                     13179   \n",
              "3                                     13313   \n",
              "4                                     13475   \n",
              "5                                     13492   \n",
              "6                                     13352   \n",
              "7                                     13415   \n",
              "8                                     13434   \n",
              "9                                     13454   \n",
              "\n",
              "   Un-cultivable land (Col.4-Col.18)-(Col.21)  \\\n",
              "0                                       11651   \n",
              "1                                       11671   \n",
              "2                                       11668   \n",
              "3                                       11593   \n",
              "4                                       11565   \n",
              "5                                       11576   \n",
              "6                                       11584   \n",
              "7                                       11683   \n",
              "8                                       11610   \n",
              "9                                       11574   \n",
              "\n",
              "   Un-cultivated land (Col.4-Col.20)-(Col.22)    production  \n",
              "0                                       14286  1.214759e+09  \n",
              "1                                       14294  9.107880e+08  \n",
              "2                                       14261  1.346439e+09  \n",
              "3                                       14191  3.200800e+07  \n",
              "4                                       14030  9.921911e+08  \n",
              "5                                       14013  1.166252e+09  \n",
              "6                                       14152  2.873887e+07  \n",
              "7                                       14089  1.452100e+09  \n",
              "8                                       14071  1.701193e+09  \n",
              "9                                       14050  1.645887e+09  \n",
              "\n",
              "[10 rows x 23 columns]"
            ],
            "text/html": [
              "\n",
              "  <div id=\"df-3eaed465-69fa-41ff-9319-65643b3fe3ae\">\n",
              "    <div class=\"colab-df-container\">\n",
              "      <div>\n",
              "<style scoped>\n",
              "    .dataframe tbody tr th:only-of-type {\n",
              "        vertical-align: middle;\n",
              "    }\n",
              "\n",
              "    .dataframe tbody tr th {\n",
              "        vertical-align: top;\n",
              "    }\n",
              "\n",
              "    .dataframe thead th {\n",
              "        text-align: right;\n",
              "    }\n",
              "</style>\n",
              "<table border=\"1\" class=\"dataframe\">\n",
              "  <thead>\n",
              "    <tr style=\"text-align: right;\">\n",
              "      <th></th>\n",
              "      <th>state</th>\n",
              "      <th>year</th>\n",
              "      <th>Geogra-phical Area-(Col.3)</th>\n",
              "      <th>Reporting area for land utilisationstatistics (col.4+7+11+14+15)-(Col.4)</th>\n",
              "      <th>Forests-(Col.5)</th>\n",
              "      <th>Not available for cultivation-Area under non-agri-cultural uses-(Col.6)</th>\n",
              "      <th>Not available for cultivation-Barren &amp; uncultur-able land-(Col.7)</th>\n",
              "      <th>Not available for cultivation-Total (Col.6+Col.7)-(Col8)</th>\n",
              "      <th>Other uncultivated land excluding-Fallow Land-Permanent pastures &amp; other grazing lands-(Col.9)</th>\n",
              "      <th>Other uncultivated land excluding-Fallow Land-Land under misc. tree crops &amp; groves (not incl. in net area sown)-(Col.10)</th>\n",
              "      <th>...</th>\n",
              "      <th>Fallow Lands-Current fallows-(Col.14)</th>\n",
              "      <th>Fallow Lands-Total(Col.13+Col.14)-(Col.15)</th>\n",
              "      <th>Net area Sown-(Col.16)</th>\n",
              "      <th>Total Cropped Area-(Col.17)</th>\n",
              "      <th>Area sown more than once (col.17-Col.16)-(Col.18)</th>\n",
              "      <th>Agri. Land/Culti-vable land/Cultur-able land/Arable land (Col.10+Col.11+Col.12+Col.13)-(Col.19)</th>\n",
              "      <th>Cultivated land (Col.14+Col.15)-(Col.20)</th>\n",
              "      <th>Un-cultivable land (Col.4-Col.18)-(Col.21)</th>\n",
              "      <th>Un-cultivated land (Col.4-Col.20)-(Col.22)</th>\n",
              "      <th>production</th>\n",
              "    </tr>\n",
              "  </thead>\n",
              "  <tbody>\n",
              "    <tr>\n",
              "      <th>0</th>\n",
              "      <td>Andhra Pradesh</td>\n",
              "      <td>2004</td>\n",
              "      <td>27507</td>\n",
              "      <td>27440</td>\n",
              "      <td>6199.0</td>\n",
              "      <td>2692</td>\n",
              "      <td>2084.0</td>\n",
              "      <td>4775</td>\n",
              "      <td>676.0</td>\n",
              "      <td>277.0</td>\n",
              "      <td>...</td>\n",
              "      <td>3036.0</td>\n",
              "      <td>4693.0</td>\n",
              "      <td>10118</td>\n",
              "      <td>12366</td>\n",
              "      <td>2248.0</td>\n",
              "      <td>15789</td>\n",
              "      <td>13154</td>\n",
              "      <td>11651</td>\n",
              "      <td>14286</td>\n",
              "      <td>1.214759e+09</td>\n",
              "    </tr>\n",
              "    <tr>\n",
              "      <th>1</th>\n",
              "      <td>Andhra Pradesh</td>\n",
              "      <td>2005</td>\n",
              "      <td>27507</td>\n",
              "      <td>27440</td>\n",
              "      <td>6199.0</td>\n",
              "      <td>2712</td>\n",
              "      <td>2084.0</td>\n",
              "      <td>4796</td>\n",
              "      <td>676.0</td>\n",
              "      <td>278.0</td>\n",
              "      <td>...</td>\n",
              "      <td>2819.0</td>\n",
              "      <td>4469.0</td>\n",
              "      <td>10327</td>\n",
              "      <td>12519</td>\n",
              "      <td>2191.0</td>\n",
              "      <td>15769</td>\n",
              "      <td>13146</td>\n",
              "      <td>11671</td>\n",
              "      <td>14294</td>\n",
              "      <td>9.107880e+08</td>\n",
              "    </tr>\n",
              "    <tr>\n",
              "      <th>2</th>\n",
              "      <td>Andhra Pradesh</td>\n",
              "      <td>2006</td>\n",
              "      <td>27507</td>\n",
              "      <td>27440</td>\n",
              "      <td>6199.0</td>\n",
              "      <td>2709</td>\n",
              "      <td>2084.0</td>\n",
              "      <td>4793</td>\n",
              "      <td>676.0</td>\n",
              "      <td>278.0</td>\n",
              "      <td>...</td>\n",
              "      <td>2434.0</td>\n",
              "      <td>4057.0</td>\n",
              "      <td>10745</td>\n",
              "      <td>13362</td>\n",
              "      <td>2617.0</td>\n",
              "      <td>15772</td>\n",
              "      <td>13179</td>\n",
              "      <td>11668</td>\n",
              "      <td>14261</td>\n",
              "      <td>1.346439e+09</td>\n",
              "    </tr>\n",
              "    <tr>\n",
              "      <th>3</th>\n",
              "      <td>Andhra Pradesh</td>\n",
              "      <td>2007</td>\n",
              "      <td>27507</td>\n",
              "      <td>27505</td>\n",
              "      <td>6210.0</td>\n",
              "      <td>2683</td>\n",
              "      <td>2098.0</td>\n",
              "      <td>4781</td>\n",
              "      <td>602.0</td>\n",
              "      <td>320.0</td>\n",
              "      <td>...</td>\n",
              "      <td>3166.0</td>\n",
              "      <td>4749.0</td>\n",
              "      <td>10147</td>\n",
              "      <td>12811</td>\n",
              "      <td>2664.0</td>\n",
              "      <td>15911</td>\n",
              "      <td>13313</td>\n",
              "      <td>11593</td>\n",
              "      <td>14191</td>\n",
              "      <td>3.200800e+07</td>\n",
              "    </tr>\n",
              "    <tr>\n",
              "      <th>4</th>\n",
              "      <td>Andhra Pradesh</td>\n",
              "      <td>2008</td>\n",
              "      <td>27507</td>\n",
              "      <td>27505</td>\n",
              "      <td>6210.0</td>\n",
              "      <td>2725</td>\n",
              "      <td>2059.0</td>\n",
              "      <td>4784</td>\n",
              "      <td>571.0</td>\n",
              "      <td>306.0</td>\n",
              "      <td>...</td>\n",
              "      <td>2719.0</td>\n",
              "      <td>4219.0</td>\n",
              "      <td>10756</td>\n",
              "      <td>13567</td>\n",
              "      <td>2811.0</td>\n",
              "      <td>15939</td>\n",
              "      <td>13475</td>\n",
              "      <td>11565</td>\n",
              "      <td>14030</td>\n",
              "      <td>9.921911e+08</td>\n",
              "    </tr>\n",
              "    <tr>\n",
              "      <th>5</th>\n",
              "      <td>Andhra Pradesh</td>\n",
              "      <td>2009</td>\n",
              "      <td>27507</td>\n",
              "      <td>27505</td>\n",
              "      <td>6210.0</td>\n",
              "      <td>2742</td>\n",
              "      <td>2056.0</td>\n",
              "      <td>4797</td>\n",
              "      <td>569.0</td>\n",
              "      <td>299.0</td>\n",
              "      <td>...</td>\n",
              "      <td>2624.0</td>\n",
              "      <td>4111.0</td>\n",
              "      <td>10868</td>\n",
              "      <td>13830</td>\n",
              "      <td>2962.0</td>\n",
              "      <td>15928</td>\n",
              "      <td>13492</td>\n",
              "      <td>11576</td>\n",
              "      <td>14013</td>\n",
              "      <td>1.166252e+09</td>\n",
              "    </tr>\n",
              "    <tr>\n",
              "      <th>6</th>\n",
              "      <td>Andhra Pradesh</td>\n",
              "      <td>2010</td>\n",
              "      <td>27507</td>\n",
              "      <td>27505</td>\n",
              "      <td>6210.0</td>\n",
              "      <td>2765</td>\n",
              "      <td>2043.0</td>\n",
              "      <td>4808</td>\n",
              "      <td>566.0</td>\n",
              "      <td>295.0</td>\n",
              "      <td>...</td>\n",
              "      <td>3361.0</td>\n",
              "      <td>4987.0</td>\n",
              "      <td>9991</td>\n",
              "      <td>12560</td>\n",
              "      <td>2569.0</td>\n",
              "      <td>15921</td>\n",
              "      <td>13352</td>\n",
              "      <td>11584</td>\n",
              "      <td>14152</td>\n",
              "      <td>2.873887e+07</td>\n",
              "    </tr>\n",
              "    <tr>\n",
              "      <th>7</th>\n",
              "      <td>Andhra Pradesh</td>\n",
              "      <td>2011</td>\n",
              "      <td>27507</td>\n",
              "      <td>27505</td>\n",
              "      <td>6230.0</td>\n",
              "      <td>2872</td>\n",
              "      <td>2026.0</td>\n",
              "      <td>4899</td>\n",
              "      <td>554.0</td>\n",
              "      <td>290.0</td>\n",
              "      <td>...</td>\n",
              "      <td>2229.0</td>\n",
              "      <td>3719.0</td>\n",
              "      <td>11186</td>\n",
              "      <td>14512</td>\n",
              "      <td>3326.0</td>\n",
              "      <td>15821</td>\n",
              "      <td>13415</td>\n",
              "      <td>11683</td>\n",
              "      <td>14089</td>\n",
              "      <td>1.452100e+09</td>\n",
              "    </tr>\n",
              "    <tr>\n",
              "      <th>8</th>\n",
              "      <td>Andhra Pradesh</td>\n",
              "      <td>2012</td>\n",
              "      <td>27507</td>\n",
              "      <td>27505</td>\n",
              "      <td>6230.0</td>\n",
              "      <td>2803</td>\n",
              "      <td>2024.0</td>\n",
              "      <td>4827</td>\n",
              "      <td>553.0</td>\n",
              "      <td>289.0</td>\n",
              "      <td>...</td>\n",
              "      <td>2273.0</td>\n",
              "      <td>3831.0</td>\n",
              "      <td>11161</td>\n",
              "      <td>13759</td>\n",
              "      <td>2599.0</td>\n",
              "      <td>15894</td>\n",
              "      <td>13434</td>\n",
              "      <td>11610</td>\n",
              "      <td>14071</td>\n",
              "      <td>1.701193e+09</td>\n",
              "    </tr>\n",
              "    <tr>\n",
              "      <th>9</th>\n",
              "      <td>Andhra Pradesh</td>\n",
              "      <td>2013</td>\n",
              "      <td>27507</td>\n",
              "      <td>27505</td>\n",
              "      <td>6227.0</td>\n",
              "      <td>2873</td>\n",
              "      <td>1959.0</td>\n",
              "      <td>4833</td>\n",
              "      <td>515.0</td>\n",
              "      <td>278.0</td>\n",
              "      <td>...</td>\n",
              "      <td>2337.0</td>\n",
              "      <td>3947.0</td>\n",
              "      <td>11117</td>\n",
              "      <td>13650</td>\n",
              "      <td>2533.0</td>\n",
              "      <td>15930</td>\n",
              "      <td>13454</td>\n",
              "      <td>11574</td>\n",
              "      <td>14050</td>\n",
              "      <td>1.645887e+09</td>\n",
              "    </tr>\n",
              "  </tbody>\n",
              "</table>\n",
              "<p>10 rows × 23 columns</p>\n",
              "</div>\n",
              "      <button class=\"colab-df-convert\" onclick=\"convertToInteractive('df-3eaed465-69fa-41ff-9319-65643b3fe3ae')\"\n",
              "              title=\"Convert this dataframe to an interactive table.\"\n",
              "              style=\"display:none;\">\n",
              "        \n",
              "  <svg xmlns=\"http://www.w3.org/2000/svg\" height=\"24px\"viewBox=\"0 0 24 24\"\n",
              "       width=\"24px\">\n",
              "    <path d=\"M0 0h24v24H0V0z\" fill=\"none\"/>\n",
              "    <path d=\"M18.56 5.44l.94 2.06.94-2.06 2.06-.94-2.06-.94-.94-2.06-.94 2.06-2.06.94zm-11 1L8.5 8.5l.94-2.06 2.06-.94-2.06-.94L8.5 2.5l-.94 2.06-2.06.94zm10 10l.94 2.06.94-2.06 2.06-.94-2.06-.94-.94-2.06-.94 2.06-2.06.94z\"/><path d=\"M17.41 7.96l-1.37-1.37c-.4-.4-.92-.59-1.43-.59-.52 0-1.04.2-1.43.59L10.3 9.45l-7.72 7.72c-.78.78-.78 2.05 0 2.83L4 21.41c.39.39.9.59 1.41.59.51 0 1.02-.2 1.41-.59l7.78-7.78 2.81-2.81c.8-.78.8-2.07 0-2.86zM5.41 20L4 18.59l7.72-7.72 1.47 1.35L5.41 20z\"/>\n",
              "  </svg>\n",
              "      </button>\n",
              "      \n",
              "  <style>\n",
              "    .colab-df-container {\n",
              "      display:flex;\n",
              "      flex-wrap:wrap;\n",
              "      gap: 12px;\n",
              "    }\n",
              "\n",
              "    .colab-df-convert {\n",
              "      background-color: #E8F0FE;\n",
              "      border: none;\n",
              "      border-radius: 50%;\n",
              "      cursor: pointer;\n",
              "      display: none;\n",
              "      fill: #1967D2;\n",
              "      height: 32px;\n",
              "      padding: 0 0 0 0;\n",
              "      width: 32px;\n",
              "    }\n",
              "\n",
              "    .colab-df-convert:hover {\n",
              "      background-color: #E2EBFA;\n",
              "      box-shadow: 0px 1px 2px rgba(60, 64, 67, 0.3), 0px 1px 3px 1px rgba(60, 64, 67, 0.15);\n",
              "      fill: #174EA6;\n",
              "    }\n",
              "\n",
              "    [theme=dark] .colab-df-convert {\n",
              "      background-color: #3B4455;\n",
              "      fill: #D2E3FC;\n",
              "    }\n",
              "\n",
              "    [theme=dark] .colab-df-convert:hover {\n",
              "      background-color: #434B5C;\n",
              "      box-shadow: 0px 1px 3px 1px rgba(0, 0, 0, 0.15);\n",
              "      filter: drop-shadow(0px 1px 2px rgba(0, 0, 0, 0.3));\n",
              "      fill: #FFFFFF;\n",
              "    }\n",
              "  </style>\n",
              "\n",
              "      <script>\n",
              "        const buttonEl =\n",
              "          document.querySelector('#df-3eaed465-69fa-41ff-9319-65643b3fe3ae button.colab-df-convert');\n",
              "        buttonEl.style.display =\n",
              "          google.colab.kernel.accessAllowed ? 'block' : 'none';\n",
              "\n",
              "        async function convertToInteractive(key) {\n",
              "          const element = document.querySelector('#df-3eaed465-69fa-41ff-9319-65643b3fe3ae');\n",
              "          const dataTable =\n",
              "            await google.colab.kernel.invokeFunction('convertToInteractive',\n",
              "                                                     [key], {});\n",
              "          if (!dataTable) return;\n",
              "\n",
              "          const docLinkHtml = 'Like what you see? Visit the ' +\n",
              "            '<a target=\"_blank\" href=https://colab.research.google.com/notebooks/data_table.ipynb>data table notebook</a>'\n",
              "            + ' to learn more about interactive tables.';\n",
              "          element.innerHTML = '';\n",
              "          dataTable['output_type'] = 'display_data';\n",
              "          await google.colab.output.renderOutput(dataTable, element);\n",
              "          const docLink = document.createElement('div');\n",
              "          docLink.innerHTML = docLinkHtml;\n",
              "          element.appendChild(docLink);\n",
              "        }\n",
              "      </script>\n",
              "    </div>\n",
              "  </div>\n",
              "  "
            ]
          },
          "metadata": {},
          "execution_count": 2
        }
      ]
    },
    {
      "cell_type": "code",
      "source": [
        "data.fillna(0,inplace=True)"
      ],
      "metadata": {
        "id": "yxlo6IhonT5P"
      },
      "execution_count": null,
      "outputs": []
    },
    {
      "cell_type": "code",
      "source": [
        "data.isnull().sum()"
      ],
      "metadata": {
        "colab": {
          "base_uri": "https://localhost:8080/"
        },
        "id": "qDo46BkTnT8t",
        "outputId": "b726d4fc-519a-453f-e37f-a974f5335aef"
      },
      "execution_count": null,
      "outputs": [
        {
          "output_type": "execute_result",
          "data": {
            "text/plain": [
              "state                                                                                                                       0\n",
              "year                                                                                                                        0\n",
              "Geogra-phical Area-(Col.3)                                                                                                  0\n",
              "Reporting area for land utilisationstatistics (col.4+7+11+14+15)-(Col.4)                                                    0\n",
              "Forests-(Col.5)                                                                                                             0\n",
              "Not available for cultivation-Area under non-agri-cultural uses-(Col.6)                                                     0\n",
              "Not available for cultivation-Barren & uncultur-able land-(Col.7)                                                           0\n",
              "Not available for cultivation-Total (Col.6+Col.7)-(Col8)                                                                    0\n",
              "Other uncultivated land excluding-Fallow Land-Permanent pastures & other grazing lands-(Col.9)                              0\n",
              "Other uncultivated land excluding-Fallow Land-Land under misc. tree crops & groves (not incl. in net area sown)-(Col.10)    0\n",
              "Other uncultivated land excluding-Fallow Land-Culturable waste land-(Col.11)                                                0\n",
              "Fallow Land-Total (Col.9 to Col.11)-(Col.12)                                                                                0\n",
              "Fallow Lands-Fallow lands other than current fallows-(Col.13)                                                               0\n",
              "Fallow Lands-Current fallows-(Col.14)                                                                                       0\n",
              "Fallow Lands-Total(Col.13+Col.14)-(Col.15)                                                                                  0\n",
              "Net area Sown-(Col.16)                                                                                                      0\n",
              "Total Cropped Area-(Col.17)                                                                                                 0\n",
              "Area sown more than once (col.17-Col.16)-(Col.18)                                                                           0\n",
              "Agri. Land/Culti-vable land/Cultur-able land/Arable land (Col.10+Col.11+Col.12+Col.13)-(Col.19)                             0\n",
              "Cultivated land (Col.14+Col.15)-(Col.20)                                                                                    0\n",
              "Un-cultivable land (Col.4-Col.18)-(Col.21)                                                                                  0\n",
              "Un-cultivated land (Col.4-Col.20)-(Col.22)                                                                                  0\n",
              "production                                                                                                                  0\n",
              "dtype: int64"
            ]
          },
          "metadata": {},
          "execution_count": 4
        }
      ]
    },
    {
      "cell_type": "code",
      "source": [
        "# Dropping unnecessary columns\n",
        "\n",
        "data = data.drop(['state','year'], axis = 1)"
      ],
      "metadata": {
        "id": "SkHQWa_QnT-e"
      },
      "execution_count": null,
      "outputs": []
    },
    {
      "cell_type": "code",
      "source": [
        "# FEATURE SELECTION\n",
        "# Ensemble trees based feature selection.\n",
        "\n",
        "X = data.iloc[:, :data.shape[1]-1]\n",
        "y = data.iloc[:, data.shape[1]-1]\n",
        "\n",
        "from sklearn.ensemble import ExtraTreesRegressor\n",
        "from sklearn.feature_selection import SelectFromModel\n",
        "\n",
        "reg = ExtraTreesRegressor(n_estimators=50)\n",
        "reg = reg.fit(X, y)\n",
        "#print(reg.feature_importances_ )\n",
        "\n",
        "model = SelectFromModel(reg, prefit=True)\n",
        "X_new = model.transform(X)\n",
        "X_new.shape\n",
        "\n",
        "data_sel = data[data.columns.intersection(X.columns[model.get_support()])]\n",
        "data_sel[data.columns[data.shape[1]-1]] = data.iloc[:, data.shape[1]-1]\n",
        "\n",
        "# feature selected data\n",
        "data_sel.head()"
      ],
      "metadata": {
        "colab": {
          "base_uri": "https://localhost:8080/",
          "height": 424
        },
        "id": "_9NOFd5czeXw",
        "outputId": "f98019da-5a6a-40d6-bf0e-0b19024f5f05"
      },
      "execution_count": null,
      "outputs": [
        {
          "output_type": "stream",
          "name": "stderr",
          "text": [
            "/usr/local/lib/python3.7/dist-packages/sklearn/base.py:444: UserWarning: X has feature names, but SelectFromModel was fitted without feature names\n",
            "  f\"X has feature names, but {self.__class__.__name__} was fitted without\"\n",
            "/usr/local/lib/python3.7/dist-packages/ipykernel_launcher.py:19: SettingWithCopyWarning: \n",
            "A value is trying to be set on a copy of a slice from a DataFrame.\n",
            "Try using .loc[row_indexer,col_indexer] = value instead\n",
            "\n",
            "See the caveats in the documentation: https://pandas.pydata.org/pandas-docs/stable/user_guide/indexing.html#returning-a-view-versus-a-copy\n"
          ]
        },
        {
          "output_type": "execute_result",
          "data": {
            "text/plain": [
              "   Geogra-phical Area-(Col.3)  \\\n",
              "0                       27507   \n",
              "1                       27507   \n",
              "2                       27507   \n",
              "3                       27507   \n",
              "4                       27507   \n",
              "\n",
              "   Reporting area for land utilisationstatistics (col.4+7+11+14+15)-(Col.4)  \\\n",
              "0                                              27440                          \n",
              "1                                              27440                          \n",
              "2                                              27440                          \n",
              "3                                              27505                          \n",
              "4                                              27505                          \n",
              "\n",
              "   Net area Sown-(Col.16)  Total Cropped Area-(Col.17)  \\\n",
              "0                   10118                        12366   \n",
              "1                   10327                        12519   \n",
              "2                   10745                        13362   \n",
              "3                   10147                        12811   \n",
              "4                   10756                        13567   \n",
              "\n",
              "   Agri. Land/Culti-vable land/Cultur-able land/Arable land (Col.10+Col.11+Col.12+Col.13)-(Col.19)  \\\n",
              "0                                              15789                                                 \n",
              "1                                              15769                                                 \n",
              "2                                              15772                                                 \n",
              "3                                              15911                                                 \n",
              "4                                              15939                                                 \n",
              "\n",
              "   Cultivated land (Col.14+Col.15)-(Col.20)  \\\n",
              "0                                     13154   \n",
              "1                                     13146   \n",
              "2                                     13179   \n",
              "3                                     13313   \n",
              "4                                     13475   \n",
              "\n",
              "   Un-cultivated land (Col.4-Col.20)-(Col.22)    production  \n",
              "0                                       14286  1.214759e+09  \n",
              "1                                       14294  9.107880e+08  \n",
              "2                                       14261  1.346439e+09  \n",
              "3                                       14191  3.200800e+07  \n",
              "4                                       14030  9.921911e+08  "
            ],
            "text/html": [
              "\n",
              "  <div id=\"df-49c95e6f-b3b9-4e69-8c02-3ebb0b4cc330\">\n",
              "    <div class=\"colab-df-container\">\n",
              "      <div>\n",
              "<style scoped>\n",
              "    .dataframe tbody tr th:only-of-type {\n",
              "        vertical-align: middle;\n",
              "    }\n",
              "\n",
              "    .dataframe tbody tr th {\n",
              "        vertical-align: top;\n",
              "    }\n",
              "\n",
              "    .dataframe thead th {\n",
              "        text-align: right;\n",
              "    }\n",
              "</style>\n",
              "<table border=\"1\" class=\"dataframe\">\n",
              "  <thead>\n",
              "    <tr style=\"text-align: right;\">\n",
              "      <th></th>\n",
              "      <th>Geogra-phical Area-(Col.3)</th>\n",
              "      <th>Reporting area for land utilisationstatistics (col.4+7+11+14+15)-(Col.4)</th>\n",
              "      <th>Net area Sown-(Col.16)</th>\n",
              "      <th>Total Cropped Area-(Col.17)</th>\n",
              "      <th>Agri. Land/Culti-vable land/Cultur-able land/Arable land (Col.10+Col.11+Col.12+Col.13)-(Col.19)</th>\n",
              "      <th>Cultivated land (Col.14+Col.15)-(Col.20)</th>\n",
              "      <th>Un-cultivated land (Col.4-Col.20)-(Col.22)</th>\n",
              "      <th>production</th>\n",
              "    </tr>\n",
              "  </thead>\n",
              "  <tbody>\n",
              "    <tr>\n",
              "      <th>0</th>\n",
              "      <td>27507</td>\n",
              "      <td>27440</td>\n",
              "      <td>10118</td>\n",
              "      <td>12366</td>\n",
              "      <td>15789</td>\n",
              "      <td>13154</td>\n",
              "      <td>14286</td>\n",
              "      <td>1.214759e+09</td>\n",
              "    </tr>\n",
              "    <tr>\n",
              "      <th>1</th>\n",
              "      <td>27507</td>\n",
              "      <td>27440</td>\n",
              "      <td>10327</td>\n",
              "      <td>12519</td>\n",
              "      <td>15769</td>\n",
              "      <td>13146</td>\n",
              "      <td>14294</td>\n",
              "      <td>9.107880e+08</td>\n",
              "    </tr>\n",
              "    <tr>\n",
              "      <th>2</th>\n",
              "      <td>27507</td>\n",
              "      <td>27440</td>\n",
              "      <td>10745</td>\n",
              "      <td>13362</td>\n",
              "      <td>15772</td>\n",
              "      <td>13179</td>\n",
              "      <td>14261</td>\n",
              "      <td>1.346439e+09</td>\n",
              "    </tr>\n",
              "    <tr>\n",
              "      <th>3</th>\n",
              "      <td>27507</td>\n",
              "      <td>27505</td>\n",
              "      <td>10147</td>\n",
              "      <td>12811</td>\n",
              "      <td>15911</td>\n",
              "      <td>13313</td>\n",
              "      <td>14191</td>\n",
              "      <td>3.200800e+07</td>\n",
              "    </tr>\n",
              "    <tr>\n",
              "      <th>4</th>\n",
              "      <td>27507</td>\n",
              "      <td>27505</td>\n",
              "      <td>10756</td>\n",
              "      <td>13567</td>\n",
              "      <td>15939</td>\n",
              "      <td>13475</td>\n",
              "      <td>14030</td>\n",
              "      <td>9.921911e+08</td>\n",
              "    </tr>\n",
              "  </tbody>\n",
              "</table>\n",
              "</div>\n",
              "      <button class=\"colab-df-convert\" onclick=\"convertToInteractive('df-49c95e6f-b3b9-4e69-8c02-3ebb0b4cc330')\"\n",
              "              title=\"Convert this dataframe to an interactive table.\"\n",
              "              style=\"display:none;\">\n",
              "        \n",
              "  <svg xmlns=\"http://www.w3.org/2000/svg\" height=\"24px\"viewBox=\"0 0 24 24\"\n",
              "       width=\"24px\">\n",
              "    <path d=\"M0 0h24v24H0V0z\" fill=\"none\"/>\n",
              "    <path d=\"M18.56 5.44l.94 2.06.94-2.06 2.06-.94-2.06-.94-.94-2.06-.94 2.06-2.06.94zm-11 1L8.5 8.5l.94-2.06 2.06-.94-2.06-.94L8.5 2.5l-.94 2.06-2.06.94zm10 10l.94 2.06.94-2.06 2.06-.94-2.06-.94-.94-2.06-.94 2.06-2.06.94z\"/><path d=\"M17.41 7.96l-1.37-1.37c-.4-.4-.92-.59-1.43-.59-.52 0-1.04.2-1.43.59L10.3 9.45l-7.72 7.72c-.78.78-.78 2.05 0 2.83L4 21.41c.39.39.9.59 1.41.59.51 0 1.02-.2 1.41-.59l7.78-7.78 2.81-2.81c.8-.78.8-2.07 0-2.86zM5.41 20L4 18.59l7.72-7.72 1.47 1.35L5.41 20z\"/>\n",
              "  </svg>\n",
              "      </button>\n",
              "      \n",
              "  <style>\n",
              "    .colab-df-container {\n",
              "      display:flex;\n",
              "      flex-wrap:wrap;\n",
              "      gap: 12px;\n",
              "    }\n",
              "\n",
              "    .colab-df-convert {\n",
              "      background-color: #E8F0FE;\n",
              "      border: none;\n",
              "      border-radius: 50%;\n",
              "      cursor: pointer;\n",
              "      display: none;\n",
              "      fill: #1967D2;\n",
              "      height: 32px;\n",
              "      padding: 0 0 0 0;\n",
              "      width: 32px;\n",
              "    }\n",
              "\n",
              "    .colab-df-convert:hover {\n",
              "      background-color: #E2EBFA;\n",
              "      box-shadow: 0px 1px 2px rgba(60, 64, 67, 0.3), 0px 1px 3px 1px rgba(60, 64, 67, 0.15);\n",
              "      fill: #174EA6;\n",
              "    }\n",
              "\n",
              "    [theme=dark] .colab-df-convert {\n",
              "      background-color: #3B4455;\n",
              "      fill: #D2E3FC;\n",
              "    }\n",
              "\n",
              "    [theme=dark] .colab-df-convert:hover {\n",
              "      background-color: #434B5C;\n",
              "      box-shadow: 0px 1px 3px 1px rgba(0, 0, 0, 0.15);\n",
              "      filter: drop-shadow(0px 1px 2px rgba(0, 0, 0, 0.3));\n",
              "      fill: #FFFFFF;\n",
              "    }\n",
              "  </style>\n",
              "\n",
              "      <script>\n",
              "        const buttonEl =\n",
              "          document.querySelector('#df-49c95e6f-b3b9-4e69-8c02-3ebb0b4cc330 button.colab-df-convert');\n",
              "        buttonEl.style.display =\n",
              "          google.colab.kernel.accessAllowed ? 'block' : 'none';\n",
              "\n",
              "        async function convertToInteractive(key) {\n",
              "          const element = document.querySelector('#df-49c95e6f-b3b9-4e69-8c02-3ebb0b4cc330');\n",
              "          const dataTable =\n",
              "            await google.colab.kernel.invokeFunction('convertToInteractive',\n",
              "                                                     [key], {});\n",
              "          if (!dataTable) return;\n",
              "\n",
              "          const docLinkHtml = 'Like what you see? Visit the ' +\n",
              "            '<a target=\"_blank\" href=https://colab.research.google.com/notebooks/data_table.ipynb>data table notebook</a>'\n",
              "            + ' to learn more about interactive tables.';\n",
              "          element.innerHTML = '';\n",
              "          dataTable['output_type'] = 'display_data';\n",
              "          await google.colab.output.renderOutput(dataTable, element);\n",
              "          const docLink = document.createElement('div');\n",
              "          docLink.innerHTML = docLinkHtml;\n",
              "          element.appendChild(docLink);\n",
              "        }\n",
              "      </script>\n",
              "    </div>\n",
              "  </div>\n",
              "  "
            ]
          },
          "metadata": {},
          "execution_count": 6
        }
      ]
    },
    {
      "cell_type": "code",
      "source": [
        "data_sel.columns"
      ],
      "metadata": {
        "colab": {
          "base_uri": "https://localhost:8080/"
        },
        "id": "RXTjaiAZz6-l",
        "outputId": "8b82cd40-d740-427c-b761-768ebd97a2ea"
      },
      "execution_count": null,
      "outputs": [
        {
          "output_type": "execute_result",
          "data": {
            "text/plain": [
              "Index(['Geogra-phical Area-(Col.3)',\n",
              "       'Reporting area for land utilisationstatistics (col.4+7+11+14+15)-(Col.4)',\n",
              "       'Net area Sown-(Col.16)', 'Total Cropped Area-(Col.17)',\n",
              "       'Agri. Land/Culti-vable land/Cultur-able land/Arable land (Col.10+Col.11+Col.12+Col.13)-(Col.19)',\n",
              "       'Cultivated land (Col.14+Col.15)-(Col.20)',\n",
              "       'Un-cultivated land (Col.4-Col.20)-(Col.22)', 'production'],\n",
              "      dtype='object')"
            ]
          },
          "metadata": {},
          "execution_count": 7
        }
      ]
    },
    {
      "cell_type": "code",
      "source": [
        "from sklearn.preprocessing import StandardScaler\n",
        "scaler = StandardScaler()\n",
        "cols_to_norm = ['Geogra-phical Area-(Col.3)',\n",
        "       'Reporting area for land utilisationstatistics (col.4+7+11+14+15)-(Col.4)',\n",
        "       'Net area Sown-(Col.16)', 'Total Cropped Area-(Col.17)',\n",
        "       'Agri. Land/Culti-vable land/Cultur-able land/Arable land (Col.10+Col.11+Col.12+Col.13)-(Col.19)',\n",
        "       'Cultivated land (Col.14+Col.15)-(Col.20)',\n",
        "       'Un-cultivated land (Col.4-Col.20)-(Col.22)', 'production']\n",
        "data_sel[cols_to_norm] = scaler.fit_transform(data_sel[cols_to_norm])"
      ],
      "metadata": {
        "id": "Xl9Exjn8nUBp",
        "colab": {
          "base_uri": "https://localhost:8080/"
        },
        "outputId": "7f1444c1-a444-425a-fbf6-fa783528158c"
      },
      "execution_count": null,
      "outputs": [
        {
          "output_type": "stream",
          "name": "stderr",
          "text": [
            "/usr/local/lib/python3.7/dist-packages/pandas/core/frame.py:3678: SettingWithCopyWarning: \n",
            "A value is trying to be set on a copy of a slice from a DataFrame.\n",
            "Try using .loc[row_indexer,col_indexer] = value instead\n",
            "\n",
            "See the caveats in the documentation: https://pandas.pydata.org/pandas-docs/stable/user_guide/indexing.html#returning-a-view-versus-a-copy\n",
            "  self[col] = igetitem(value, i)\n"
          ]
        }
      ]
    },
    {
      "cell_type": "code",
      "source": [
        "data_sel.head(10)"
      ],
      "metadata": {
        "colab": {
          "base_uri": "https://localhost:8080/",
          "height": 459
        },
        "id": "Xi28Nbi8nUDO",
        "outputId": "46f142c5-a68f-4af6-adfb-44f5ced558dc"
      },
      "execution_count": null,
      "outputs": [
        {
          "output_type": "execute_result",
          "data": {
            "text/plain": [
              "   Geogra-phical Area-(Col.3)  \\\n",
              "0                    1.669046   \n",
              "1                    1.669046   \n",
              "2                    1.669046   \n",
              "3                    1.669046   \n",
              "4                    1.669046   \n",
              "5                    1.669046   \n",
              "6                    1.669046   \n",
              "7                    1.669046   \n",
              "8                    1.669046   \n",
              "9                    1.669046   \n",
              "\n",
              "   Reporting area for land utilisationstatistics (col.4+7+11+14+15)-(Col.4)  \\\n",
              "0                                           1.669724                          \n",
              "1                                           1.669724                          \n",
              "2                                           1.669724                          \n",
              "3                                           1.676086                          \n",
              "4                                           1.676086                          \n",
              "5                                           1.676086                          \n",
              "6                                           1.676086                          \n",
              "7                                           1.676086                          \n",
              "8                                           1.676086                          \n",
              "9                                           1.676086                          \n",
              "\n",
              "   Net area Sown-(Col.16)  Total Cropped Area-(Col.17)  \\\n",
              "0                0.939172                     0.740388   \n",
              "1                0.976155                     0.760125   \n",
              "2                1.050120                     0.868875   \n",
              "3                0.944304                     0.797794   \n",
              "4                1.052066                     0.895321   \n",
              "5                1.071885                     0.929249   \n",
              "6                0.916700                     0.765414   \n",
              "7                1.128154                     1.017230   \n",
              "8                1.123731                     0.920090   \n",
              "9                1.115945                     0.906029   \n",
              "\n",
              "   Agri. Land/Culti-vable land/Cultur-able land/Arable land (Col.10+Col.11+Col.12+Col.13)-(Col.19)  \\\n",
              "0                                           1.329924                                                 \n",
              "1                                           1.327142                                                 \n",
              "2                                           1.327560                                                 \n",
              "3                                           1.346892                                                 \n",
              "4                                           1.350786                                                 \n",
              "5                                           1.349256                                                 \n",
              "6                                           1.348283                                                 \n",
              "7                                           1.334375                                                 \n",
              "8                                           1.344528                                                 \n",
              "9                                           1.349535                                                 \n",
              "\n",
              "   Cultivated land (Col.14+Col.15)-(Col.20)  \\\n",
              "0                                  1.277064   \n",
              "1                                  1.275761   \n",
              "2                                  1.281135   \n",
              "3                                  1.302957   \n",
              "4                                  1.329338   \n",
              "5                                  1.332107   \n",
              "6                                  1.309308   \n",
              "7                                  1.319567   \n",
              "8                                  1.322661   \n",
              "9                                  1.325918   \n",
              "\n",
              "   Un-cultivated land (Col.4-Col.20)-(Col.22)  production  \n",
              "0                                    2.015640    0.784479  \n",
              "1                                    2.017389    0.522666  \n",
              "2                                    2.010172    0.897895  \n",
              "3                                    1.994863   -0.234233  \n",
              "4                                    1.959653    0.592779  \n",
              "5                                    1.955935    0.742699  \n",
              "6                                    1.986334   -0.237049  \n",
              "7                                    1.972556    0.988902  \n",
              "8                                    1.968620    1.203447  \n",
              "9                                    1.964027    1.155812  "
            ],
            "text/html": [
              "\n",
              "  <div id=\"df-ad055abb-0cdd-4c0b-9f7c-ea4998639911\">\n",
              "    <div class=\"colab-df-container\">\n",
              "      <div>\n",
              "<style scoped>\n",
              "    .dataframe tbody tr th:only-of-type {\n",
              "        vertical-align: middle;\n",
              "    }\n",
              "\n",
              "    .dataframe tbody tr th {\n",
              "        vertical-align: top;\n",
              "    }\n",
              "\n",
              "    .dataframe thead th {\n",
              "        text-align: right;\n",
              "    }\n",
              "</style>\n",
              "<table border=\"1\" class=\"dataframe\">\n",
              "  <thead>\n",
              "    <tr style=\"text-align: right;\">\n",
              "      <th></th>\n",
              "      <th>Geogra-phical Area-(Col.3)</th>\n",
              "      <th>Reporting area for land utilisationstatistics (col.4+7+11+14+15)-(Col.4)</th>\n",
              "      <th>Net area Sown-(Col.16)</th>\n",
              "      <th>Total Cropped Area-(Col.17)</th>\n",
              "      <th>Agri. Land/Culti-vable land/Cultur-able land/Arable land (Col.10+Col.11+Col.12+Col.13)-(Col.19)</th>\n",
              "      <th>Cultivated land (Col.14+Col.15)-(Col.20)</th>\n",
              "      <th>Un-cultivated land (Col.4-Col.20)-(Col.22)</th>\n",
              "      <th>production</th>\n",
              "    </tr>\n",
              "  </thead>\n",
              "  <tbody>\n",
              "    <tr>\n",
              "      <th>0</th>\n",
              "      <td>1.669046</td>\n",
              "      <td>1.669724</td>\n",
              "      <td>0.939172</td>\n",
              "      <td>0.740388</td>\n",
              "      <td>1.329924</td>\n",
              "      <td>1.277064</td>\n",
              "      <td>2.015640</td>\n",
              "      <td>0.784479</td>\n",
              "    </tr>\n",
              "    <tr>\n",
              "      <th>1</th>\n",
              "      <td>1.669046</td>\n",
              "      <td>1.669724</td>\n",
              "      <td>0.976155</td>\n",
              "      <td>0.760125</td>\n",
              "      <td>1.327142</td>\n",
              "      <td>1.275761</td>\n",
              "      <td>2.017389</td>\n",
              "      <td>0.522666</td>\n",
              "    </tr>\n",
              "    <tr>\n",
              "      <th>2</th>\n",
              "      <td>1.669046</td>\n",
              "      <td>1.669724</td>\n",
              "      <td>1.050120</td>\n",
              "      <td>0.868875</td>\n",
              "      <td>1.327560</td>\n",
              "      <td>1.281135</td>\n",
              "      <td>2.010172</td>\n",
              "      <td>0.897895</td>\n",
              "    </tr>\n",
              "    <tr>\n",
              "      <th>3</th>\n",
              "      <td>1.669046</td>\n",
              "      <td>1.676086</td>\n",
              "      <td>0.944304</td>\n",
              "      <td>0.797794</td>\n",
              "      <td>1.346892</td>\n",
              "      <td>1.302957</td>\n",
              "      <td>1.994863</td>\n",
              "      <td>-0.234233</td>\n",
              "    </tr>\n",
              "    <tr>\n",
              "      <th>4</th>\n",
              "      <td>1.669046</td>\n",
              "      <td>1.676086</td>\n",
              "      <td>1.052066</td>\n",
              "      <td>0.895321</td>\n",
              "      <td>1.350786</td>\n",
              "      <td>1.329338</td>\n",
              "      <td>1.959653</td>\n",
              "      <td>0.592779</td>\n",
              "    </tr>\n",
              "    <tr>\n",
              "      <th>5</th>\n",
              "      <td>1.669046</td>\n",
              "      <td>1.676086</td>\n",
              "      <td>1.071885</td>\n",
              "      <td>0.929249</td>\n",
              "      <td>1.349256</td>\n",
              "      <td>1.332107</td>\n",
              "      <td>1.955935</td>\n",
              "      <td>0.742699</td>\n",
              "    </tr>\n",
              "    <tr>\n",
              "      <th>6</th>\n",
              "      <td>1.669046</td>\n",
              "      <td>1.676086</td>\n",
              "      <td>0.916700</td>\n",
              "      <td>0.765414</td>\n",
              "      <td>1.348283</td>\n",
              "      <td>1.309308</td>\n",
              "      <td>1.986334</td>\n",
              "      <td>-0.237049</td>\n",
              "    </tr>\n",
              "    <tr>\n",
              "      <th>7</th>\n",
              "      <td>1.669046</td>\n",
              "      <td>1.676086</td>\n",
              "      <td>1.128154</td>\n",
              "      <td>1.017230</td>\n",
              "      <td>1.334375</td>\n",
              "      <td>1.319567</td>\n",
              "      <td>1.972556</td>\n",
              "      <td>0.988902</td>\n",
              "    </tr>\n",
              "    <tr>\n",
              "      <th>8</th>\n",
              "      <td>1.669046</td>\n",
              "      <td>1.676086</td>\n",
              "      <td>1.123731</td>\n",
              "      <td>0.920090</td>\n",
              "      <td>1.344528</td>\n",
              "      <td>1.322661</td>\n",
              "      <td>1.968620</td>\n",
              "      <td>1.203447</td>\n",
              "    </tr>\n",
              "    <tr>\n",
              "      <th>9</th>\n",
              "      <td>1.669046</td>\n",
              "      <td>1.676086</td>\n",
              "      <td>1.115945</td>\n",
              "      <td>0.906029</td>\n",
              "      <td>1.349535</td>\n",
              "      <td>1.325918</td>\n",
              "      <td>1.964027</td>\n",
              "      <td>1.155812</td>\n",
              "    </tr>\n",
              "  </tbody>\n",
              "</table>\n",
              "</div>\n",
              "      <button class=\"colab-df-convert\" onclick=\"convertToInteractive('df-ad055abb-0cdd-4c0b-9f7c-ea4998639911')\"\n",
              "              title=\"Convert this dataframe to an interactive table.\"\n",
              "              style=\"display:none;\">\n",
              "        \n",
              "  <svg xmlns=\"http://www.w3.org/2000/svg\" height=\"24px\"viewBox=\"0 0 24 24\"\n",
              "       width=\"24px\">\n",
              "    <path d=\"M0 0h24v24H0V0z\" fill=\"none\"/>\n",
              "    <path d=\"M18.56 5.44l.94 2.06.94-2.06 2.06-.94-2.06-.94-.94-2.06-.94 2.06-2.06.94zm-11 1L8.5 8.5l.94-2.06 2.06-.94-2.06-.94L8.5 2.5l-.94 2.06-2.06.94zm10 10l.94 2.06.94-2.06 2.06-.94-2.06-.94-.94-2.06-.94 2.06-2.06.94z\"/><path d=\"M17.41 7.96l-1.37-1.37c-.4-.4-.92-.59-1.43-.59-.52 0-1.04.2-1.43.59L10.3 9.45l-7.72 7.72c-.78.78-.78 2.05 0 2.83L4 21.41c.39.39.9.59 1.41.59.51 0 1.02-.2 1.41-.59l7.78-7.78 2.81-2.81c.8-.78.8-2.07 0-2.86zM5.41 20L4 18.59l7.72-7.72 1.47 1.35L5.41 20z\"/>\n",
              "  </svg>\n",
              "      </button>\n",
              "      \n",
              "  <style>\n",
              "    .colab-df-container {\n",
              "      display:flex;\n",
              "      flex-wrap:wrap;\n",
              "      gap: 12px;\n",
              "    }\n",
              "\n",
              "    .colab-df-convert {\n",
              "      background-color: #E8F0FE;\n",
              "      border: none;\n",
              "      border-radius: 50%;\n",
              "      cursor: pointer;\n",
              "      display: none;\n",
              "      fill: #1967D2;\n",
              "      height: 32px;\n",
              "      padding: 0 0 0 0;\n",
              "      width: 32px;\n",
              "    }\n",
              "\n",
              "    .colab-df-convert:hover {\n",
              "      background-color: #E2EBFA;\n",
              "      box-shadow: 0px 1px 2px rgba(60, 64, 67, 0.3), 0px 1px 3px 1px rgba(60, 64, 67, 0.15);\n",
              "      fill: #174EA6;\n",
              "    }\n",
              "\n",
              "    [theme=dark] .colab-df-convert {\n",
              "      background-color: #3B4455;\n",
              "      fill: #D2E3FC;\n",
              "    }\n",
              "\n",
              "    [theme=dark] .colab-df-convert:hover {\n",
              "      background-color: #434B5C;\n",
              "      box-shadow: 0px 1px 3px 1px rgba(0, 0, 0, 0.15);\n",
              "      filter: drop-shadow(0px 1px 2px rgba(0, 0, 0, 0.3));\n",
              "      fill: #FFFFFF;\n",
              "    }\n",
              "  </style>\n",
              "\n",
              "      <script>\n",
              "        const buttonEl =\n",
              "          document.querySelector('#df-ad055abb-0cdd-4c0b-9f7c-ea4998639911 button.colab-df-convert');\n",
              "        buttonEl.style.display =\n",
              "          google.colab.kernel.accessAllowed ? 'block' : 'none';\n",
              "\n",
              "        async function convertToInteractive(key) {\n",
              "          const element = document.querySelector('#df-ad055abb-0cdd-4c0b-9f7c-ea4998639911');\n",
              "          const dataTable =\n",
              "            await google.colab.kernel.invokeFunction('convertToInteractive',\n",
              "                                                     [key], {});\n",
              "          if (!dataTable) return;\n",
              "\n",
              "          const docLinkHtml = 'Like what you see? Visit the ' +\n",
              "            '<a target=\"_blank\" href=https://colab.research.google.com/notebooks/data_table.ipynb>data table notebook</a>'\n",
              "            + ' to learn more about interactive tables.';\n",
              "          element.innerHTML = '';\n",
              "          dataTable['output_type'] = 'display_data';\n",
              "          await google.colab.output.renderOutput(dataTable, element);\n",
              "          const docLink = document.createElement('div');\n",
              "          docLink.innerHTML = docLinkHtml;\n",
              "          element.appendChild(docLink);\n",
              "        }\n",
              "      </script>\n",
              "    </div>\n",
              "  </div>\n",
              "  "
            ]
          },
          "metadata": {},
          "execution_count": 9
        }
      ]
    },
    {
      "cell_type": "code",
      "source": [
        "data_sel['Net area Sown-(Col.16)'].describe()"
      ],
      "metadata": {
        "colab": {
          "base_uri": "https://localhost:8080/"
        },
        "id": "Y4sg4sTzqZ8N",
        "outputId": "5928a34b-1a0f-4aa5-e717-9573f021840d"
      },
      "execution_count": null,
      "outputs": [
        {
          "output_type": "execute_result",
          "data": {
            "text/plain": [
              "count    3.190000e+02\n",
              "mean     1.113703e-17\n",
              "std      1.001571e+00\n",
              "min     -8.510245e-01\n",
              "25%     -8.060794e-01\n",
              "50%     -3.541506e-01\n",
              "75%      1.576755e-01\n",
              "max      2.395643e+00\n",
              "Name: Net area Sown-(Col.16), dtype: float64"
            ]
          },
          "metadata": {},
          "execution_count": 10
        }
      ]
    },
    {
      "cell_type": "code",
      "source": [
        "iqr =  1.576755e-01 - (-8.060794e-01)\n",
        "upper =  1.576755e-01  + 1.5*iqr\n",
        "\n",
        "print(upper)"
      ],
      "metadata": {
        "colab": {
          "base_uri": "https://localhost:8080/"
        },
        "id": "nLKsE8iZr2yM",
        "outputId": "3d85dac8-8748-46ae-fd34-c5133ab75729"
      },
      "execution_count": null,
      "outputs": [
        {
          "output_type": "stream",
          "name": "stdout",
          "text": [
            "1.60330785\n"
          ]
        }
      ]
    },
    {
      "cell_type": "code",
      "source": [
        "for i in range (0,319):\n",
        "  if data['Net area Sown-(Col.16)'][i]> 1.60330785:\n",
        "    data['Net area Sown-(Col.16)'][i] = 1.60330785"
      ],
      "metadata": {
        "id": "L4uwfybur2z_",
        "colab": {
          "base_uri": "https://localhost:8080/"
        },
        "outputId": "db1c7023-e0ce-4584-c0e6-ca2d81044c21"
      },
      "execution_count": null,
      "outputs": [
        {
          "output_type": "stream",
          "name": "stderr",
          "text": [
            "/usr/local/lib/python3.7/dist-packages/ipykernel_launcher.py:3: SettingWithCopyWarning: \n",
            "A value is trying to be set on a copy of a slice from a DataFrame\n",
            "\n",
            "See the caveats in the documentation: https://pandas.pydata.org/pandas-docs/stable/user_guide/indexing.html#returning-a-view-versus-a-copy\n",
            "  This is separate from the ipykernel package so we can avoid doing imports until\n"
          ]
        }
      ]
    },
    {
      "cell_type": "code",
      "source": [
        "data_sel['Cultivated land (Col.14+Col.15)-(Col.20)'].describe()"
      ],
      "metadata": {
        "colab": {
          "base_uri": "https://localhost:8080/"
        },
        "id": "aDPbzW1psW0j",
        "outputId": "3af402d3-9ca8-4984-883a-398e9ee2b3c0"
      },
      "execution_count": null,
      "outputs": [
        {
          "output_type": "execute_result",
          "data": {
            "text/plain": [
              "count    3.190000e+02\n",
              "mean     2.227407e-17\n",
              "std      1.001571e+00\n",
              "min     -8.648813e-01\n",
              "25%     -8.227035e-01\n",
              "50%     -3.931094e-01\n",
              "75%      1.484430e-01\n",
              "max      2.338347e+00\n",
              "Name: Cultivated land (Col.14+Col.15)-(Col.20), dtype: float64"
            ]
          },
          "metadata": {},
          "execution_count": 14
        }
      ]
    },
    {
      "cell_type": "code",
      "source": [
        "iqr = 1.484430e-01 - (-8.227035e-01)\n",
        "upper = 1.484430e-01 + 1.5*iqr\n",
        "\n",
        "print(upper)"
      ],
      "metadata": {
        "colab": {
          "base_uri": "https://localhost:8080/"
        },
        "id": "DzKaiR2Er23I",
        "outputId": "3d8c284b-1bc1-4290-d864-e3fd10e55877"
      },
      "execution_count": null,
      "outputs": [
        {
          "output_type": "stream",
          "name": "stdout",
          "text": [
            "1.6051627499999999\n"
          ]
        }
      ]
    },
    {
      "cell_type": "code",
      "source": [
        "for i in range (0,319):\n",
        "  if data['Cultivated land (Col.14+Col.15)-(Col.20)'][i]> 1.6051627499999999:\n",
        "    data['Cultivated land (Col.14+Col.15)-(Col.20)'][i] = 1.6051627499999999"
      ],
      "metadata": {
        "id": "iKQfQcM4r247",
        "colab": {
          "base_uri": "https://localhost:8080/"
        },
        "outputId": "201ec68a-b057-4a33-a450-9f173cd70cab"
      },
      "execution_count": null,
      "outputs": [
        {
          "output_type": "stream",
          "name": "stderr",
          "text": [
            "/usr/local/lib/python3.7/dist-packages/ipykernel_launcher.py:3: SettingWithCopyWarning: \n",
            "A value is trying to be set on a copy of a slice from a DataFrame\n",
            "\n",
            "See the caveats in the documentation: https://pandas.pydata.org/pandas-docs/stable/user_guide/indexing.html#returning-a-view-versus-a-copy\n",
            "  This is separate from the ipykernel package so we can avoid doing imports until\n"
          ]
        }
      ]
    },
    {
      "cell_type": "code",
      "source": [
        "from sklearn.model_selection import train_test_split\n",
        "\n",
        "x = data_sel.drop([\"production\"], axis=1)\n",
        "y = data_sel[\"production\"]\n",
        "\n",
        "x_train,x_test,y_train,y_test = train_test_split(x,y,test_size=0.20, random_state=5)"
      ],
      "metadata": {
        "id": "BIeiwFL7r28e"
      },
      "execution_count": null,
      "outputs": []
    },
    {
      "cell_type": "code",
      "source": [
        "# Training the Linear Regression model .\n",
        "\n",
        "from sklearn.linear_model import LinearRegression\n",
        "model = LinearRegression()\n",
        "model.fit(x_train,y_train)"
      ],
      "metadata": {
        "colab": {
          "base_uri": "https://localhost:8080/"
        },
        "id": "iX34Oh3Atu9y",
        "outputId": "72b6ba5b-e34f-4f98-8ce4-ba1f4bc1465c"
      },
      "execution_count": null,
      "outputs": [
        {
          "output_type": "execute_result",
          "data": {
            "text/plain": [
              "LinearRegression()"
            ]
          },
          "metadata": {},
          "execution_count": 38
        }
      ]
    },
    {
      "cell_type": "code",
      "source": [
        "# Predicting the test Results \n",
        "\n",
        "lr_predict = model.predict(x_test)"
      ],
      "metadata": {
        "id": "qivp-bagtu_o"
      },
      "execution_count": null,
      "outputs": []
    },
    {
      "cell_type": "code",
      "source": [
        "import math\n",
        "from sklearn.metrics import mean_squared_error\n",
        "mse = mean_squared_error(y_test, lr_predict)\n",
        "\n",
        "rmse = math.sqrt(mse)\n",
        "print(rmse)"
      ],
      "metadata": {
        "colab": {
          "base_uri": "https://localhost:8080/"
        },
        "id": "0kA7RCKvtvDS",
        "outputId": "a952cc79-77a3-4f0b-901b-206c71497bd6"
      },
      "execution_count": null,
      "outputs": [
        {
          "output_type": "stream",
          "name": "stdout",
          "text": [
            "0.6056530753984254\n"
          ]
        }
      ]
    },
    {
      "cell_type": "code",
      "source": [
        "#Calculating R2 score\n",
        "from sklearn.metrics import r2_score\n",
        "r0 = r2_score(y_test,lr_predict)\n",
        "print(\"R2 score : \",r0)"
      ],
      "metadata": {
        "colab": {
          "base_uri": "https://localhost:8080/"
        },
        "id": "FNXu-WXSKzhU",
        "outputId": "7d344a17-a6e5-4a21-904e-d21d750973dc"
      },
      "execution_count": null,
      "outputs": [
        {
          "output_type": "stream",
          "name": "stdout",
          "text": [
            "R2 score :  -0.151123840193649\n"
          ]
        }
      ]
    },
    {
      "cell_type": "code",
      "source": [
        "plt.scatter(y_test,lr_predict)\n",
        "plt.xlabel('Actual',color='Red')\n",
        "plt.ylabel('Predicted',color='Red')\n",
        "#plt.label.set_color('White')\n",
        "#plt.yaxis.label.set_color('White')\n",
        "plt.show()"
      ],
      "metadata": {
        "colab": {
          "base_uri": "https://localhost:8080/",
          "height": 280
        },
        "id": "Z76H8T3wtvF4",
        "outputId": "b1f5d64d-df73-428b-fe77-da7297552ca5"
      },
      "execution_count": null,
      "outputs": [
        {
          "output_type": "display_data",
          "data": {
            "text/plain": [
              "<Figure size 432x288 with 1 Axes>"
            ],
            "image/png": "[encoded data removed]"
          },
          "metadata": {
            "needs_background": "light"
          }
        }
      ]
    },
    {
      "cell_type": "code",
      "source": [
        "#Training the KNN regression model\n",
        "\n",
        "from sklearn.neighbors import KNeighborsRegressor\n",
        "knn = KNeighborsRegressor(n_neighbors=10 , weights='distance')\n",
        "knn.fit(x_train, y_train)"
      ],
      "metadata": {
        "colab": {
          "base_uri": "https://localhost:8080/"
        },
        "id": "voWYbuMfuF_X",
        "outputId": "86878d75-c47f-46cf-d5ea-eb3167106fcb"
      },
      "execution_count": null,
      "outputs": [
        {
          "output_type": "execute_result",
          "data": {
            "text/plain": [
              "KNeighborsRegressor(n_neighbors=10, weights='distance')"
            ]
          },
          "metadata": {},
          "execution_count": 42
        }
      ]
    },
    {
      "cell_type": "code",
      "source": [
        "#Predicting test results\n",
        "\n",
        "knn_pred = knn.predict(x_test)"
      ],
      "metadata": {
        "id": "tYrOxK4CuGBP"
      },
      "execution_count": null,
      "outputs": []
    },
    {
      "cell_type": "code",
      "source": [
        "mse = mean_squared_error(y_test, knn_pred)\n",
        "\n",
        "rmse = math.sqrt(mse)\n",
        "print(rmse)"
      ],
      "metadata": {
        "colab": {
          "base_uri": "https://localhost:8080/"
        },
        "id": "QB80_qH0uGEx",
        "outputId": "94496f75-e2e0-4060-9a80-99a29a5b9968"
      },
      "execution_count": null,
      "outputs": [
        {
          "output_type": "stream",
          "name": "stdout",
          "text": [
            "0.1390803935129743\n"
          ]
        }
      ]
    },
    {
      "cell_type": "code",
      "source": [
        "#Calculating R2 score\n",
        "from sklearn.metrics import r2_score\n",
        "r = r2_score(y_test,knn_pred)\n",
        "print(\"R2 score : \",r)"
      ],
      "metadata": {
        "colab": {
          "base_uri": "https://localhost:8080/"
        },
        "id": "TSMhziomKnIM",
        "outputId": "33acac22-7fa9-440d-8cbf-9dd4edda5f9f"
      },
      "execution_count": null,
      "outputs": [
        {
          "output_type": "stream",
          "name": "stdout",
          "text": [
            "R2 score :  0.9392975784520342\n"
          ]
        }
      ]
    },
    {
      "cell_type": "code",
      "source": [
        "plt.scatter(y_test,knn_pred)\n",
        "plt.xlabel('Actual',color='Red')\n",
        "plt.ylabel('Predicted',color='Red')\n",
        "plt.show()"
      ],
      "metadata": {
        "colab": {
          "base_uri": "https://localhost:8080/",
          "height": 282
        },
        "id": "Nb8k5uusuGG6",
        "outputId": "e10e002e-de18-4193-b49d-98de358c4383"
      },
      "execution_count": null,
      "outputs": [
        {
          "output_type": "display_data",
          "data": {
            "text/plain": [
              "<Figure size 432x288 with 1 Axes>"
            ],
            "image/png": "[encoded data removed]"
          },
          "metadata": {
            "needs_background": "light"
          }
        }
      ]
    },
    {
      "cell_type": "code",
      "source": [
        "#Training the Random Forest Regression Model\n",
        "\n",
        "from sklearn.ensemble import RandomForestRegressor\n",
        "model = RandomForestRegressor(n_estimators = 11)\n",
        "model.fit(x_train,y_train)"
      ],
      "metadata": {
        "colab": {
          "base_uri": "https://localhost:8080/"
        },
        "id": "wOyHgGzyuGKY",
        "outputId": "64529664-c29d-4f96-c152-bb99fe38dc07"
      },
      "execution_count": null,
      "outputs": [
        {
          "output_type": "execute_result",
          "data": {
            "text/plain": [
              "RandomForestRegressor(n_estimators=11)"
            ]
          },
          "metadata": {},
          "execution_count": 52
        }
      ]
    },
    {
      "cell_type": "code",
      "source": [
        "#Predicting the test results\n",
        "\n",
        "rf_predict = model.predict(x_test)"
      ],
      "metadata": {
        "id": "qi3DaJ8JtvIv"
      },
      "execution_count": null,
      "outputs": []
    },
    {
      "cell_type": "code",
      "source": [
        "mse = mean_squared_error(y_test, rf_predict)\n",
        "\n",
        "rmse = math.sqrt(mse)\n",
        "print(rmse)"
      ],
      "metadata": {
        "colab": {
          "base_uri": "https://localhost:8080/"
        },
        "id": "nJ67cn3btvK6",
        "outputId": "391cdeb3-fed9-4859-a4ee-ae981024652a"
      },
      "execution_count": null,
      "outputs": [
        {
          "output_type": "stream",
          "name": "stdout",
          "text": [
            "0.07775333185362943\n"
          ]
        }
      ]
    },
    {
      "cell_type": "code",
      "source": [
        "#Calculating R2 score\n",
        "from sklearn.metrics import r2_score\n",
        "r1 = r2_score(y_test,rf_predict)\n",
        "print(\"R2 score : \",r1)"
      ],
      "metadata": {
        "colab": {
          "base_uri": "https://localhost:8080/"
        },
        "id": "BYpY6AdwKJMM",
        "outputId": "8230754e-5528-497c-b1b9-26229020e6bc"
      },
      "execution_count": null,
      "outputs": [
        {
          "output_type": "stream",
          "name": "stdout",
          "text": [
            "R2 score :  0.9810280395183116\n"
          ]
        }
      ]
    },
    {
      "cell_type": "code",
      "source": [
        "plt.scatter(y_test,rf_predict)\n",
        "plt.xlabel('Actual',color='Red')\n",
        "plt.ylabel('Predicted',color='Red')\n",
        "plt.show()"
      ],
      "metadata": {
        "colab": {
          "base_uri": "https://localhost:8080/",
          "height": 279
        },
        "id": "T7oxNo8ktvOE",
        "outputId": "627739ca-84e1-4f15-c105-1cf1920c6638"
      },
      "execution_count": null,
      "outputs": [
        {
          "output_type": "display_data",
          "data": {
            "text/plain": [
              "<Figure size 432x288 with 1 Axes>"
            ],
            "image/png": "[encoded data removed]"
          },
          "metadata": {
            "needs_background": "light"
          }
        }
      ]
    }
  ]
}